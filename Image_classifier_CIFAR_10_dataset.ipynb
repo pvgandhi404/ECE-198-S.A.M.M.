{
  "nbformat": 4,
  "nbformat_minor": 0,
  "metadata": {
    "colab": {
      "provenance": [],
      "toc_visible": true,
      "mount_file_id": "1Ar6Q5eedde7emYV5wosocjsCeIInP1ap",
      "authorship_tag": "ABX9TyMSvNuzxFmtx0fppWUMyqVN",
      "include_colab_link": true
    },
    "kernelspec": {
      "name": "python3",
      "display_name": "Python 3"
    },
    "language_info": {
      "name": "python"
    }
  },
  "cells": [
    {
      "cell_type": "markdown",
      "metadata": {
        "id": "view-in-github",
        "colab_type": "text"
      },
      "source": [
        "<a href=\"https://colab.research.google.com/github/pvgandhi404/ECE-198-S.A.M.M./blob/main/Image_classifier_CIFAR_10_dataset.ipynb\" target=\"_parent\"><img src=\"https://colab.research.google.com/assets/colab-badge.svg\" alt=\"Open In Colab\"/></a>"
      ]
    },
    {
      "cell_type": "code",
      "execution_count": null,
      "metadata": {
        "id": "3lLPl_qZwQcC"
      },
      "outputs": [],
      "source": [
        "import tensorflow as tf\n",
        "from tensorflow.keras import datasets, layers, models\n",
        "import matplotlib.pyplot as plt\n",
        "import numpy as np\n",
        "from sklearn.metrics import confusion_matrix , classification_report\n",
        "import numpy as np"
      ]
    },
    {
      "cell_type": "code",
      "source": [
        "# x = image\n",
        "# y = associated classification\n",
        "\n",
        "(X_train, y_train), (X_test,y_test) = datasets.cifar10.load_data()\n",
        "X_train.shape"
      ],
      "metadata": {
        "colab": {
          "base_uri": "https://localhost:8080/"
        },
        "id": "EqrBMwIVwsiS",
        "outputId": "3e7fbbab-847a-46c9-f3df-6c061958b015"
      },
      "execution_count": null,
      "outputs": [
        {
          "output_type": "execute_result",
          "data": {
            "text/plain": [
              "(50000, 32, 32, 3)"
            ]
          },
          "metadata": {},
          "execution_count": 30
        }
      ]
    },
    {
      "cell_type": "code",
      "source": [
        "y_train = y_train.reshape(-1,)\n",
        "y_train[:5]"
      ],
      "metadata": {
        "colab": {
          "base_uri": "https://localhost:8080/"
        },
        "id": "VaeTwQRlw0BW",
        "outputId": "ca860b98-4c3f-486c-dbca-3e60da9d9e90"
      },
      "execution_count": null,
      "outputs": [
        {
          "output_type": "execute_result",
          "data": {
            "text/plain": [
              "array([6, 9, 9, 4, 1], dtype=uint8)"
            ]
          },
          "metadata": {},
          "execution_count": 31
        }
      ]
    },
    {
      "cell_type": "code",
      "source": [
        "y_test = y_test.reshape(-1,)"
      ],
      "metadata": {
        "id": "6gM1WEfnw17A"
      },
      "execution_count": null,
      "outputs": []
    },
    {
      "cell_type": "code",
      "source": [
        "classes = [\"airplane\",\"automobile\",\"bird\",\"cat\",\"deer\",\"dog\",\"frog\",\"horse\",\"ship\",\"truck\"]\n",
        "def plot_sample(X, y, index):\n",
        "    plt.figure(figsize = (15,2))\n",
        "    plt.imshow(X[index])\n",
        "    plt.xlabel(classes[y[index]])"
      ],
      "metadata": {
        "id": "gSc4x9wEw3cw"
      },
      "execution_count": null,
      "outputs": []
    },
    {
      "cell_type": "code",
      "source": [
        "# Normalize into rgb (max is 255)\n",
        "X_train = X_train / 255.0\n",
        "X_test = X_test / 255.0"
      ],
      "metadata": {
        "id": "BYna4yyTw7yM"
      },
      "execution_count": null,
      "outputs": []
    },
    {
      "cell_type": "code",
      "source": [
        "cnn = models.Sequential([\n",
        "    layers.Conv2D(filters=32, kernel_size=(3, 3), activation='relu', input_shape=(32, 32, 3)),\n",
        "    layers.MaxPooling2D((2, 2)),\n",
        "\n",
        "    layers.Conv2D(filters=64, kernel_size=(3, 3), activation='relu'),\n",
        "    layers.MaxPooling2D((2, 2)),\n",
        "\n",
        "    layers.Flatten(),\n",
        "    layers.Dense(64, activation='relu'),\n",
        "    layers.Dense(10, activation='softmax')\n",
        "])"
      ],
      "metadata": {
        "id": "X8dVO4XjxAE7"
      },
      "execution_count": null,
      "outputs": []
    },
    {
      "cell_type": "code",
      "source": [
        "cnn.compile(optimizer='adam',\n",
        "              loss='sparse_categorical_crossentropy',\n",
        "              metrics=['accuracy'])"
      ],
      "metadata": {
        "id": "ftfkZsO3xB9p"
      },
      "execution_count": null,
      "outputs": []
    },
    {
      "cell_type": "code",
      "source": [
        "cnn.fit(X_train, y_train, epochs=15)"
      ],
      "metadata": {
        "colab": {
          "base_uri": "https://localhost:8080/"
        },
        "id": "SmrmGTgFxD0g",
        "outputId": "504071e8-4de2-4c39-ed42-96eaf09b1846"
      },
      "execution_count": null,
      "outputs": [
        {
          "output_type": "stream",
          "name": "stdout",
          "text": [
            "Epoch 1/15\n",
            "1563/1563 [==============================] - 70s 45ms/step - loss: 1.2267 - accuracy: 0.5671\n",
            "Epoch 2/15\n",
            "1563/1563 [==============================] - 70s 45ms/step - loss: 1.0167 - accuracy: 0.6449\n",
            "Epoch 3/15\n",
            "1563/1563 [==============================] - 67s 43ms/step - loss: 0.9077 - accuracy: 0.6825\n",
            "Epoch 4/15\n",
            "1563/1563 [==============================] - 69s 44ms/step - loss: 0.8326 - accuracy: 0.7121\n",
            "Epoch 5/15\n",
            "1563/1563 [==============================] - 69s 44ms/step - loss: 0.7690 - accuracy: 0.7321\n",
            "Epoch 6/15\n",
            "1563/1563 [==============================] - 69s 44ms/step - loss: 0.7127 - accuracy: 0.7515\n",
            "Epoch 7/15\n",
            "1563/1563 [==============================] - 68s 44ms/step - loss: 0.6654 - accuracy: 0.7670\n",
            "Epoch 8/15\n",
            "1563/1563 [==============================] - 68s 43ms/step - loss: 0.6141 - accuracy: 0.7870\n",
            "Epoch 9/15\n",
            "1563/1563 [==============================] - 71s 45ms/step - loss: 0.5731 - accuracy: 0.7988\n",
            "Epoch 10/15\n",
            "1563/1563 [==============================] - 70s 44ms/step - loss: 0.5341 - accuracy: 0.8110\n",
            "Epoch 11/15\n",
            "1563/1563 [==============================] - 67s 43ms/step - loss: 0.4982 - accuracy: 0.8246\n",
            "Epoch 12/15\n",
            "1563/1563 [==============================] - 68s 43ms/step - loss: 0.4644 - accuracy: 0.8351\n",
            "Epoch 13/15\n",
            "1563/1563 [==============================] - 70s 44ms/step - loss: 0.4285 - accuracy: 0.8460\n",
            "Epoch 14/15\n",
            "1563/1563 [==============================] - 69s 44ms/step - loss: 0.3973 - accuracy: 0.8604\n",
            "Epoch 15/15\n",
            "1563/1563 [==============================] - 68s 44ms/step - loss: 0.3673 - accuracy: 0.8699\n"
          ]
        },
        {
          "output_type": "execute_result",
          "data": {
            "text/plain": [
              "<keras.src.callbacks.History at 0x7ab3b66dce20>"
            ]
          },
          "metadata": {},
          "execution_count": 38
        }
      ]
    },
    {
      "cell_type": "code",
      "source": [
        "cnn.evaluate(X_test,y_test)"
      ],
      "metadata": {
        "colab": {
          "base_uri": "https://localhost:8080/"
        },
        "id": "5GMS4RVUxFiv",
        "outputId": "d10f28fc-b4f1-4460-c41b-b8bb1e8aa5f7"
      },
      "execution_count": null,
      "outputs": [
        {
          "output_type": "stream",
          "name": "stdout",
          "text": [
            "313/313 [==============================] - 5s 15ms/step - loss: 1.1372 - accuracy: 0.6860\n"
          ]
        },
        {
          "output_type": "execute_result",
          "data": {
            "text/plain": [
              "[1.1372051239013672, 0.6859999895095825]"
            ]
          },
          "metadata": {},
          "execution_count": 39
        }
      ]
    },
    {
      "cell_type": "code",
      "source": [
        "y_pred = cnn.predict(X_test)\n",
        "y_pred[:5]\n",
        "\n",
        "for i in range(0, 5):\n",
        "  print(np.argmax(y_pred[i]))\n",
        "  print(y_test[i])"
      ],
      "metadata": {
        "colab": {
          "base_uri": "https://localhost:8080/"
        },
        "id": "5VqXMmRwxHUE",
        "outputId": "8741d232-7f52-4762-8fff-e34f2c512e5b"
      },
      "execution_count": null,
      "outputs": [
        {
          "output_type": "stream",
          "name": "stdout",
          "text": [
            "313/313 [==============================] - 4s 13ms/step\n",
            "3\n",
            "3\n",
            "8\n",
            "8\n",
            "8\n",
            "8\n",
            "0\n",
            "0\n",
            "6\n",
            "6\n"
          ]
        }
      ]
    },
    {
      "cell_type": "code",
      "source": [
        "y_classes = [np.argmax(element) for element in y_pred]\n",
        "y_classes[:5]"
      ],
      "metadata": {
        "colab": {
          "base_uri": "https://localhost:8080/"
        },
        "id": "Ln4ivQ7RxJOW",
        "outputId": "5d777fb4-d174-4284-eb8f-be6a04b942e6"
      },
      "execution_count": null,
      "outputs": [
        {
          "output_type": "execute_result",
          "data": {
            "text/plain": [
              "[3, 8, 8, 0, 6]"
            ]
          },
          "metadata": {},
          "execution_count": 42
        }
      ]
    },
    {
      "cell_type": "code",
      "source": [
        "y_test[:5]"
      ],
      "metadata": {
        "colab": {
          "base_uri": "https://localhost:8080/"
        },
        "id": "Ze3zzNyIxLOX",
        "outputId": "b6f3f368-985d-43b6-fe1e-f3e743c964dc"
      },
      "execution_count": null,
      "outputs": [
        {
          "output_type": "execute_result",
          "data": {
            "text/plain": [
              "array([3, 8, 8, 0, 6], dtype=uint8)"
            ]
          },
          "metadata": {},
          "execution_count": 43
        }
      ]
    },
    {
      "cell_type": "code",
      "source": [
        "cnn.save(\"/content/drive/MyDrive/Machine Learning Code/Computer Vision/Rand Stuff/og_animal_15epoch\")"
      ],
      "metadata": {
        "id": "O9kLIrOixR2Q"
      },
      "execution_count": null,
      "outputs": []
    },
    {
      "cell_type": "code",
      "source": [
        "model = tf.keras.models.load_model(\"/content/drive/MyDrive/Machine Learning Code/Computer Vision/Rand Stuff/og_animal_15epoch\")"
      ],
      "metadata": {
        "id": "kkYn5PoDS9J6"
      },
      "execution_count": null,
      "outputs": []
    },
    {
      "cell_type": "code",
      "source": [
        "deertest = open(\"/content/deer6.png\", 'rb')\n",
        "\n",
        "\n",
        "import matplotlib.pyplot as plt\n",
        "deer = plt.imread(deertest)\n",
        "\n",
        "deer = deer / 255.0\n",
        "\n",
        "print(deer)\n",
        "\n",
        "deer.reshape(-1)\n",
        "\n",
        "model.predict(deer)"
      ],
      "metadata": {
        "colab": {
          "base_uri": "https://localhost:8080/",
          "height": 1000
        },
        "id": "TfXvuRelTnGt",
        "outputId": "dadefec5-ee2c-4ad0-d258-0224f8bdeaa3"
      },
      "execution_count": null,
      "outputs": [
        {
          "output_type": "stream",
          "name": "stdout",
          "text": [
            "[[[0.00315263 0.0028143  0.00226067]\n",
            "  [0.00316801 0.00287582 0.00215302]\n",
            "  [0.00315263 0.00295271 0.00236832]\n",
            "  ...\n",
            "  [0.00249135 0.00219915 0.00161476]\n",
            "  [0.00279892 0.00250673 0.00199923]\n",
            "  [0.00241446 0.00224529 0.0016609 ]]\n",
            "\n",
            " [[0.00327566 0.00307574 0.00236832]\n",
            "  [0.00304498 0.0028143  0.00206075]\n",
            "  [0.00270665 0.00239908 0.00176855]\n",
            "  ...\n",
            "  [0.00276817 0.00258362 0.00183007]\n",
            "  [0.00278354 0.00258362 0.00198385]\n",
            "  [0.00233756 0.0021684  0.00164552]]\n",
            "\n",
            " [[0.00301423 0.00275279 0.00207612]\n",
            "  [0.00256824 0.00227605 0.00164552]\n",
            "  [0.002599   0.00230681 0.00176855]\n",
            "  ...\n",
            "  [0.00299885 0.00272203 0.00195309]\n",
            "  [0.00252211 0.00224529 0.00155325]\n",
            "  [0.00242983 0.00218378 0.00167628]]\n",
            "\n",
            " ...\n",
            "\n",
            " [[0.00264514 0.00232218 0.00167628]\n",
            "  [0.00287582 0.00247597 0.00173779]\n",
            "  [0.00304498 0.00269127 0.00192234]\n",
            "  ...\n",
            "  [0.00273741 0.00239908 0.00170704]\n",
            "  [0.00190696 0.00161476 0.00112265]\n",
            "  [0.00249135 0.00227605 0.00176855]]\n",
            "\n",
            " [[0.00319877 0.00290657 0.00224529]\n",
            "  [0.00301423 0.00264514 0.00190696]\n",
            "  [0.00282968 0.00249135 0.00184544]\n",
            "  ...\n",
            "  [0.00282968 0.00250673 0.00172241]\n",
            "  [0.00267589 0.0023837  0.00163014]\n",
            "  [0.00287582 0.00267589 0.00195309]]\n",
            "\n",
            " [[0.00342945 0.00315263 0.00230681]\n",
            "  [0.00298347 0.00262976 0.00175317]\n",
            "  [0.00266052 0.00232218 0.00169166]\n",
            "  ...\n",
            "  [0.00270665 0.00241446 0.00159938]\n",
            "  [0.00301423 0.00275279 0.00189158]\n",
            "  [0.00322953 0.0030296  0.00222991]]]\n"
          ]
        },
        {
          "output_type": "error",
          "ename": "ValueError",
          "evalue": "ignored",
          "traceback": [
            "\u001b[0;31m---------------------------------------------------------------------------\u001b[0m",
            "\u001b[0;31mValueError\u001b[0m                                Traceback (most recent call last)",
            "\u001b[0;32m<ipython-input-76-2129bdf47648>\u001b[0m in \u001b[0;36m<cell line: 13>\u001b[0;34m()\u001b[0m\n\u001b[1;32m     11\u001b[0m \u001b[0mdeer\u001b[0m\u001b[0;34m.\u001b[0m\u001b[0mreshape\u001b[0m\u001b[0;34m(\u001b[0m\u001b[0;34m-\u001b[0m\u001b[0;36m1\u001b[0m\u001b[0;34m)\u001b[0m\u001b[0;34m\u001b[0m\u001b[0;34m\u001b[0m\u001b[0m\n\u001b[1;32m     12\u001b[0m \u001b[0;34m\u001b[0m\u001b[0m\n\u001b[0;32m---> 13\u001b[0;31m \u001b[0mmodel\u001b[0m\u001b[0;34m.\u001b[0m\u001b[0mpredict\u001b[0m\u001b[0;34m(\u001b[0m\u001b[0mdeer\u001b[0m\u001b[0;34m)\u001b[0m\u001b[0;34m\u001b[0m\u001b[0;34m\u001b[0m\u001b[0m\n\u001b[0m",
            "\u001b[0;32m/usr/local/lib/python3.10/dist-packages/keras/src/utils/traceback_utils.py\u001b[0m in \u001b[0;36merror_handler\u001b[0;34m(*args, **kwargs)\u001b[0m\n\u001b[1;32m     68\u001b[0m             \u001b[0;31m# To get the full stack trace, call:\u001b[0m\u001b[0;34m\u001b[0m\u001b[0;34m\u001b[0m\u001b[0m\n\u001b[1;32m     69\u001b[0m             \u001b[0;31m# `tf.debugging.disable_traceback_filtering()`\u001b[0m\u001b[0;34m\u001b[0m\u001b[0;34m\u001b[0m\u001b[0m\n\u001b[0;32m---> 70\u001b[0;31m             \u001b[0;32mraise\u001b[0m \u001b[0me\u001b[0m\u001b[0;34m.\u001b[0m\u001b[0mwith_traceback\u001b[0m\u001b[0;34m(\u001b[0m\u001b[0mfiltered_tb\u001b[0m\u001b[0;34m)\u001b[0m \u001b[0;32mfrom\u001b[0m \u001b[0;32mNone\u001b[0m\u001b[0;34m\u001b[0m\u001b[0;34m\u001b[0m\u001b[0m\n\u001b[0m\u001b[1;32m     71\u001b[0m         \u001b[0;32mfinally\u001b[0m\u001b[0;34m:\u001b[0m\u001b[0;34m\u001b[0m\u001b[0;34m\u001b[0m\u001b[0m\n\u001b[1;32m     72\u001b[0m             \u001b[0;32mdel\u001b[0m \u001b[0mfiltered_tb\u001b[0m\u001b[0;34m\u001b[0m\u001b[0;34m\u001b[0m\u001b[0m\n",
            "\u001b[0;32m/usr/local/lib/python3.10/dist-packages/keras/src/engine/training.py\u001b[0m in \u001b[0;36mtf__predict_function\u001b[0;34m(iterator)\u001b[0m\n\u001b[1;32m     13\u001b[0m                 \u001b[0;32mtry\u001b[0m\u001b[0;34m:\u001b[0m\u001b[0;34m\u001b[0m\u001b[0;34m\u001b[0m\u001b[0m\n\u001b[1;32m     14\u001b[0m                     \u001b[0mdo_return\u001b[0m \u001b[0;34m=\u001b[0m \u001b[0;32mTrue\u001b[0m\u001b[0;34m\u001b[0m\u001b[0;34m\u001b[0m\u001b[0m\n\u001b[0;32m---> 15\u001b[0;31m                     \u001b[0mretval_\u001b[0m \u001b[0;34m=\u001b[0m \u001b[0mag__\u001b[0m\u001b[0;34m.\u001b[0m\u001b[0mconverted_call\u001b[0m\u001b[0;34m(\u001b[0m\u001b[0mag__\u001b[0m\u001b[0;34m.\u001b[0m\u001b[0mld\u001b[0m\u001b[0;34m(\u001b[0m\u001b[0mstep_function\u001b[0m\u001b[0;34m)\u001b[0m\u001b[0;34m,\u001b[0m \u001b[0;34m(\u001b[0m\u001b[0mag__\u001b[0m\u001b[0;34m.\u001b[0m\u001b[0mld\u001b[0m\u001b[0;34m(\u001b[0m\u001b[0mself\u001b[0m\u001b[0;34m)\u001b[0m\u001b[0;34m,\u001b[0m \u001b[0mag__\u001b[0m\u001b[0;34m.\u001b[0m\u001b[0mld\u001b[0m\u001b[0;34m(\u001b[0m\u001b[0miterator\u001b[0m\u001b[0;34m)\u001b[0m\u001b[0;34m)\u001b[0m\u001b[0;34m,\u001b[0m \u001b[0;32mNone\u001b[0m\u001b[0;34m,\u001b[0m \u001b[0mfscope\u001b[0m\u001b[0;34m)\u001b[0m\u001b[0;34m\u001b[0m\u001b[0;34m\u001b[0m\u001b[0m\n\u001b[0m\u001b[1;32m     16\u001b[0m                 \u001b[0;32mexcept\u001b[0m\u001b[0;34m:\u001b[0m\u001b[0;34m\u001b[0m\u001b[0;34m\u001b[0m\u001b[0m\n\u001b[1;32m     17\u001b[0m                     \u001b[0mdo_return\u001b[0m \u001b[0;34m=\u001b[0m \u001b[0;32mFalse\u001b[0m\u001b[0;34m\u001b[0m\u001b[0;34m\u001b[0m\u001b[0m\n",
            "\u001b[0;31mValueError\u001b[0m: in user code:\n\n    File \"/usr/local/lib/python3.10/dist-packages/keras/src/engine/training.py\", line 2416, in predict_function  *\n        return step_function(self, iterator)\n    File \"/usr/local/lib/python3.10/dist-packages/keras/src/engine/training.py\", line 2401, in step_function  **\n        outputs = model.distribute_strategy.run(run_step, args=(data,))\n    File \"/usr/local/lib/python3.10/dist-packages/keras/src/engine/training.py\", line 2389, in run_step  **\n        outputs = model.predict_step(data)\n    File \"/usr/local/lib/python3.10/dist-packages/keras/src/engine/training.py\", line 2357, in predict_step\n        return self(x, training=False)\n    File \"/usr/local/lib/python3.10/dist-packages/keras/src/utils/traceback_utils.py\", line 70, in error_handler\n        raise e.with_traceback(filtered_tb) from None\n    File \"/usr/local/lib/python3.10/dist-packages/keras/src/engine/input_spec.py\", line 298, in assert_input_compatibility\n        raise ValueError(\n\n    ValueError: Input 0 of layer \"sequential_3\" is incompatible with the layer: expected shape=(None, 32, 32, 3), found shape=(32, 32, 3)\n"
          ]
        }
      ]
    }
  ]
}